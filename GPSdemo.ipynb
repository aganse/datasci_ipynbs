{
 "cells": [
  {
   "cell_type": "markdown",
   "metadata": {},
   "source": [
    "### Mapping and analyzing GPS tracking data in Python/Jupyter\n",
    "Andy Ganse, andy@ganse.org, http://research.ganse.org"
   ]
  },
  {
   "cell_type": "markdown",
   "metadata": {},
   "source": [
    "Did you know you can embed interactive Google Maps and other similar mapping tools directly into your Python notebook?  Check it out, as we play with and analyze some GPS tracking data.\n",
    "\n",
    "To start with, let's go grab some great GPS tracking data to play with.  A company called MapMyRun keeps a wonderful database of walking/biking routes in various US cities, based on GPS tracks that users have submitted to the site.  From a menu page one can pick from a variety of routes; for example let's pick one walking [around the downtown Seattle business district](http://www.mapmyride.com/routes/view/1141462231).  Note you must create a (free) account on that website to download the track data (the download button at bottom of each page is for climb/altitude data only; the track data comes via the \"export this route\" link on right of page).  After setting up account you can download a GPX file with the track data."
   ]
  },
  {
   "cell_type": "markdown",
   "metadata": {},
   "source": [
    "Before getting started we can use a command-line utility from the GPXPY package to check the summary stats of the data file (in this case the \"around the downtown district\" one:"
   ]
  },
  {
   "cell_type": "code",
   "execution_count": 99,
   "metadata": {
    "collapsed": false
   },
   "outputs": [
    {
     "name": "stdout",
     "output_type": "stream",
     "text": [
      "File: route1141462231.gpx\n",
      "    Length 2D: 5.941km\n",
      "    Length 3D: 5.941km\n",
      "    Moving time: n/a\n",
      "    Stopped time: n/a\n",
      "    Max speed: 0.00m/s = 0.00km/h\n",
      "    Total uphill: 0.00m\n",
      "    Total downhill: 0.00m\n",
      "    Started: None\n",
      "    Ended: None\n",
      "    Points: 500\n",
      "    Avg distance between points: 11.88m\n",
      "\n",
      "    Track #0, Segment #0\n",
      "        Length 2D: 5.941km\n",
      "        Length 3D: 5.941km\n",
      "        Moving time: n/a\n",
      "        Stopped time: n/a\n",
      "        Max speed: 0.00m/s = 0.00km/h\n",
      "        Total uphill: 0.00m\n",
      "        Total downhill: 0.00m\n",
      "        Started: None\n",
      "        Ended: None\n",
      "        Points: 500\n",
      "        Avg distance between points: 11.88m\n",
      "\n"
     ]
    }
   ],
   "source": [
    "!gpxinfo route1141462231.gpx"
   ]
  },
  {
   "cell_type": "markdown",
   "metadata": {},
   "source": [
    "GPX files can contain multiple tracks, each with multiple segments, each with multiple tracking points.  For this file the above shows only one track, with a single segment, containing 500 data points.  The data files can contain time, altitude, and speed information too, and the above summary suggests those values are missing; we'll double-check that below.\n",
    "\n",
    "Now for the Python:"
   ]
  },
  {
   "cell_type": "code",
   "execution_count": 100,
   "metadata": {
    "collapsed": false
   },
   "outputs": [
    {
     "name": "stdout",
     "output_type": "stream",
     "text": [
      "Num tracks: 1\n",
      "Num segments: 1\n",
      "Num segments: 500\n",
      "\n",
      "Dataframe head:\n",
      "    Longitude   Latitude Altitude  Time Speed\n",
      "0 -122.338898  47.612796     None  None  None\n",
      "1 -122.338973  47.612702     None  None  None\n",
      "2 -122.338854  47.612698     None  None  None\n",
      "3 -122.338701  47.612898     None  None  None\n",
      "4 -122.338664  47.613013     None  None  None\n",
      "\n",
      "Num non-None Longitude records: 500\n",
      "Num non-None Latitude records: 500\n",
      "Num non-None Altitude records: 0\n",
      "Num non-None Time records: 0\n",
      "Num non-None Speed records: 0\n",
      "\n",
      "Title string contained in track.name: \n",
      "   Walked 3.52 mi on 07/01/2016\n",
      "  \n"
     ]
    }
   ],
   "source": [
    "# some of this cell's code came from this link - thank you!\n",
    "# https://ocefpaf.github.io/python4oceanographers/blog/2014/08/18/gpx\n",
    "\n",
    "import gpxpy\n",
    "gpx = gpxpy.parse(open('./route1141462231.gpx'))\n",
    "\n",
    "# Files can have more than one track, which can have more than one segment, which have more than one point...\n",
    "print('Num tracks: ' + str(len(gpx.tracks)))\n",
    "track = gpx.tracks[0]\n",
    "print('Num segments: ' + str(len(track.segments)))\n",
    "segment = track.segments[0]\n",
    "print('Num segments: ' + str(len(segment.points)))\n",
    "\n",
    "# Load the data into a Pandas dataframe (by way of a list)\n",
    "data = []\n",
    "segment_length = segment.length_3d()\n",
    "for point_idx, point in enumerate(segment.points):\n",
    "    data.append([point.longitude, point.latitude,point.elevation, \n",
    "                 point.time, segment.get_speed(point_idx)])\n",
    "import pandas as pd\n",
    "columns = ['Longitude', 'Latitude', 'Altitude', 'Time', 'Speed']\n",
    "df = pd.DataFrame(data, columns=columns)\n",
    "print('\\nDataframe head:')\n",
    "print(df.head())\n",
    "print('\\nNum non-None Longitude records: ' + str(len(df[~pd.isnull(df.Longitude)])))\n",
    "print('Num non-None Latitude records: ' + str(len(df[~pd.isnull(df.Latitude)])))\n",
    "print('Num non-None Altitude records: ' + str(len(df[~pd.isnull(df.Altitude)])))\n",
    "print('Num non-None Time records: ' + str(len(df[~pd.isnull(df.Time)])))\n",
    "print('Num non-None Speed records: ' + str(len(df[~pd.isnull(df.Speed)])))\n",
    "print('\\nTitle string contained in track.name: ' + track.name)"
   ]
  },
  {
   "cell_type": "markdown",
   "metadata": {},
   "source": [
    "So we've confirmed the lack of Altitude, Time, and Speed data; just Lon/Lat points.  But at least the title string for the track lists total distance and date - the former we can verify with the data; the latter we cannot.\n",
    "\n",
    "Meanwhile here are some options to get an interactive map plot of the track:"
   ]
  },
  {
   "cell_type": "code",
   "execution_count": 231,
   "metadata": {
    "collapsed": true
   },
   "outputs": [],
   "source": [
    "%matplotlib inline"
   ]
  },
  {
   "cell_type": "markdown",
   "metadata": {},
   "source": [
    "#### MPLleaflet:"
   ]
  },
  {
   "cell_type": "code",
   "execution_count": 227,
   "metadata": {
    "collapsed": false
   },
   "outputs": [],
   "source": [
    "import mplleaflet   # (https://github.com/jwass/mplleaflet)\n",
    "import matplotlib.pyplot as plt\n",
    "plt.plot(df['Longitude'], df['Latitude'], color='red', marker='o', markersize=3, linewidth=2, alpha=0.4)\n",
    "#mplleaflet.display(fig=ax.figure)  # shows map inline in Jupyter but takes up full width\n",
    "mplleaflet.show(path='mpl.html')  # saves to html file for display below\n",
    "#mplleaflet.display(fig=fig, tiles='esri_aerial')  # shows aerial/satellite photo\n",
    "# (I don't actually find the aerial view very helpful as it's oblique and obscures what's on the track.)"
   ]
  },
  {
   "cell_type": "markdown",
   "metadata": {},
   "source": [
    "#### Folium:"
   ]
  },
  {
   "cell_type": "code",
   "execution_count": 228,
   "metadata": {
    "collapsed": false
   },
   "outputs": [],
   "source": [
    "import folium   # (https://pypi.python.org/pypi/folium)\n",
    "mymap = folium.Map( location=[ df.Latitude.mean(), df.Longitude.mean() ], zoom_start=14)\n",
    "#folium.PolyLine(df[['Latitude','Longitude']].values, color=\"red\", weight=2.5, opacity=1).add_to(mymap)\n",
    "for coord in df[['Latitude','Longitude']].values:\n",
    "    folium.CircleMarker(location=[coord[0],coord[1]], radius=1,color='red').add_to(mymap)\n",
    "#mymap   # shows map inline in Jupyter but takes up full width\n",
    "mymap.save('fol.html')  # saves to html file for display below"
   ]
  },
  {
   "cell_type": "markdown",
   "metadata": {},
   "source": [
    "#### Google Maps:"
   ]
  },
  {
   "cell_type": "code",
   "execution_count": 220,
   "metadata": {
    "collapsed": true
   },
   "outputs": [],
   "source": [
    "import gmplot   # (https://github.com/vgm64/gmplot)\n",
    "gmap = gmplot.GoogleMapPlotter(df.Latitude.mean(), df.Longitude.mean(), 14)\n",
    "gmap.scatter(df['Latitude'], df['Longitude'], 'red', size=7, marker=False)\n",
    "# apparently cannot be shown inline in Jupyter\n",
    "gmap.draw(\"gmap.html\")  # saves to html file for display below - hm, see note below about this."
   ]
  },
  {
   "cell_type": "markdown",
   "metadata": {},
   "source": [
    "For better display I saved the above to html files which I'll show in subframes below:"
   ]
  },
  {
   "cell_type": "code",
   "execution_count": 240,
   "metadata": {
    "collapsed": false,
    "scrolled": false
   },
   "outputs": [
    {
     "data": {
      "text/html": [
       "<iframe width=\"45%\" height=\"350\" src=\"fol.html\"></iframe>\n",
       "<iframe width=\"45%\" height=\"350\" src=\"mpl.html\"></iframe>\n",
       "<!-- <iframe width=\"45%\" height=\"350\" src=\"gmap.html\"></iframe>  hm, this one dies without a Google API key -->"
      ],
      "text/plain": [
       "<IPython.core.display.HTML object>"
      ]
     },
     "metadata": {},
     "output_type": "display_data"
    }
   ],
   "source": [
    "%%HTML\n",
    "<iframe width=\"45%\" height=\"350\" src=\"fol.html\"></iframe>\n",
    "<iframe width=\"45%\" height=\"350\" src=\"mpl.html\"></iframe>\n",
    "<!-- <iframe width=\"45%\" height=\"350\" src=\"gmap.html\"></iframe>  hm, this one dies without a Google API key -->"
   ]
  },
  {
   "cell_type": "markdown",
   "metadata": {},
   "source": [
    "The Google Maps plot below is just the screenshot I took to show how it displayed in my Safari browser outside of Jupyter, actually even using the same <CODE>&lt;iframe width=\"45%\" height=\"350\" src=\"gmap.html\"&gt;&lt;/iframe&gt;</CODE> as above in a separate HTML file (flanked by &lt;HTML&gt;&lt;BODY&gt; and &lt;/BODY&gt;&lt;/HTML&gt;), no problem in that case.  It appears there's some check they're doing that prevents straightforward anonymous Google Maps calls from within Jupyter, oh well."
   ]
  },
  {
   "cell_type": "code",
   "execution_count": 236,
   "metadata": {
    "collapsed": false
   },
   "outputs": [
    {
     "data": {
      "text/html": [
       "<img width=\"40%\" src=\"gmap.png\">"
      ],
      "text/plain": [
       "<IPython.core.display.HTML object>"
      ]
     },
     "metadata": {},
     "output_type": "display_data"
    }
   ],
   "source": [
    "%%HTML\n",
    "<img width=\"40%\" src=\"gmap.png\">"
   ]
  },
  {
   "cell_type": "code",
   "execution_count": 98,
   "metadata": {
    "collapsed": false
   },
   "outputs": [
    {
     "name": "stdout",
     "output_type": "stream",
     "text": [
      "Total distance as summed between points in track:\n",
      "   3.69802674803 mi\n",
      "Comparing to total distance contained in track.name: \n",
      "   Walked 3.52 mi on 07/01/2016\n",
      "  \n"
     ]
    }
   ],
   "source": [
    "# calculate distances on surface of ellipsoid\n",
    "from vincenty import vincenty\n",
    "\n",
    "df['lastLat']=df['Latitude'].shift(1)\n",
    "df['lastLong']=df['Longitude'].shift(1)\n",
    "df['dist(meters)'] = df.apply(lambda x: vincenty((x['Latitude'], x['Longitude']), (x['lastLat'], x['lastLong'])), axis = 1) * 1000.\n",
    "\n",
    "print('Total distance as summed between points in track:')\n",
    "print('   ' + str(sum(df['dist(meters)'][1:])*0.000621371) + ' mi')\n",
    "# The df['dist'][1:] above is because the \"shift\" sets the first lastLon,lastLat as NaN.\n",
    "print('Comparing to total distance contained in track.name: ' + track.name)"
   ]
  },
  {
   "cell_type": "markdown",
   "metadata": {},
   "source": [
    "That 0.18 mile difference above is about 274 meters.  There may have there been a different instrument or method used by whoever entered that 3.52 into the title string, and also we did not take the elevation changes into account in the distance calculation (the elevation changes were available in that separate download link on the MapMyRun page and I didn't incorporate them into the dataframe here).\n",
    "\n",
    "However, there's also a very interesting phenomenon going on in the GPS data as seen in those maps above.  That walk in downtown Seattle is right among the tallest skyscraper buildings in the city, and the GPS signals are known to reflect off those buildings and cause geometric effects like that for GPS in such downtown areas.  There are papers about this - it's not a trivial matter - it's not noise that you can simply filter out, it's a spatially- and temporarily-varying bias, because not only does it depend on where you are standing with your GPS unit downtown, but it also depends on where the GPS satellites are in their trajectory.  Here are a few interesting examples from the scientific/engineering literature about this issue:<UL>\n",
    "<LI><A HREF=\"https://www.google.com/url?sa=t&rct=j&q=&esrc=s&source=web&cd=5&cad=rja&uact=8&ved=0ahUKEwiMoOXTpuTUAhWJ5oMKHRGxCwUQFgg8MAQ&url=http%3A%2F%2Fwww.mdpi.com%2F1424-8220%2F15%2F7%2F17329%2Fpdf&usg=AFQjCNEIpirM12U8ro05thhkiU_yHX3p8g\">Hsu <I>et al.</I>, 2015</A>\n",
    "<LI><A HREF=\"https://www.hindawi.com/journals/ijno/2015/983124/\">Gowdayyanadoddi <I>et al.</I>, 2015</A>\n",
    "<LI><A HREF=\"http://web.mit.edu/jnt/www/Papers/J090-02-enuv-GPS.pdf\">Agarwal <I>et al.</I>, 2002<A>\n",
    "</UL>"
   ]
  },
  {
   "cell_type": "code",
   "execution_count": null,
   "metadata": {
    "collapsed": true
   },
   "outputs": [],
   "source": []
  }
 ],
 "metadata": {
  "kernelspec": {
   "display_name": "Python 2",
   "language": "python",
   "name": "python2"
  },
  "language_info": {
   "codemirror_mode": {
    "name": "ipython",
    "version": 2
   },
   "file_extension": ".py",
   "mimetype": "text/x-python",
   "name": "python",
   "nbconvert_exporter": "python",
   "pygments_lexer": "ipython2",
   "version": "2.7.12"
  }
 },
 "nbformat": 4,
 "nbformat_minor": 0
}
